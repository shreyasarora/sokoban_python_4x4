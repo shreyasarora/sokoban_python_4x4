{
  "nbformat": 4,
  "nbformat_minor": 0,
  "metadata": {
    "colab": {
      "name": "sokoban.ipynb",
      "provenance": [],
      "authorship_tag": "ABX9TyM1gxJALSVkZZmwYaQM3W/G",
      "include_colab_link": true
    },
    "kernelspec": {
      "name": "python3",
      "display_name": "Python 3"
    },
    "language_info": {
      "name": "python"
    }
  },
  "cells": [
    {
      "cell_type": "markdown",
      "metadata": {
        "id": "view-in-github",
        "colab_type": "text"
      },
      "source": [
        "<a href=\"https://colab.research.google.com/github/shreyasarora/sokoban_python_4x4/blob/main/sokoban.ipynb\" target=\"_parent\"><img src=\"https://colab.research.google.com/assets/colab-badge.svg\" alt=\"Open In Colab\"/></a>"
      ]
    },
    {
      "cell_type": "code",
      "metadata": {
        "colab": {
          "base_uri": "https://localhost:8080/"
        },
        "id": "0BUd9GtpD_qa",
        "outputId": "49389679-2c75-43ec-b718-d98eab9de96a"
      },
      "source": [
        "#importing libraries\n",
        "import random\n",
        "#import os\n",
        "c,t = 0,0\n",
        "#defining a function to print sokoban at a given stage\n",
        "def Print(b1, b2, f1, f2, p1, p2):\n",
        "  a = [['_','_','_','_'],['_','_','_','_'],['_','_','_','_'],['_','_','_','_']]\n",
        "  a[b2][b1] = 'X'\n",
        "  a[f2][f1] = '0'\n",
        "  a[p2][p1] = 'P'\n",
        "  for i in range(len(a[0])):\n",
        "    for j in range(len(a)):\n",
        "      print(a[i][j], end =' ')\n",
        "    print('')\n",
        "\n",
        "#generating a random value for the position of box, player and final destination\n",
        "p1, p2 = random.randint(0,3),random.randint(0,3)  #player\n",
        "b1, b2 = random.randint(1,2),random.randint(1,2)  #box\n",
        "f1, f2 = random.randint(0,3),random.randint(0,3)  #final point\n",
        "\n",
        "while ((f1 == b1) and (f2 == b2)):\n",
        "    f1, f2 = random.randint(0,3),random.randint(0,3)\n",
        "while ((p1 == b1) and (p2 == b2)) or ((p1 == f1) and (p2 == f2)):\n",
        "    p1, p2 = random.randint(0,3),random.randint(0,3)\n",
        "\n",
        "a = 1\n",
        "\n",
        "#making a infinite loop for game\n",
        "while a == 1:\n",
        "  if (b1 == f1) and (b2 == f2):  #winning condition\n",
        "    print('score = 100')\n",
        "    break\n",
        "  Print(b1, b2, f1, f2, p1, p2)\n",
        "  if (b1 == 0 and b2 ==0) or (b1 == 0 and b2 ==3) or (b1 == 3 and b2 ==0) or (b1 == 3 and b2 ==3):  #losing condition\n",
        "    print('score = 0')\n",
        "    break\n",
        "  val = input(\"Enter your next move: \")\n",
        "  #os.system('clear')\n",
        "  if val == 'q':  #quit\n",
        "    a = 0\n",
        "    print('score = 0')\n",
        "  elif val == 's':  #move down\n",
        "    if (p2 + 1 == b2) and (b2 + 1 < 4) and (b1 == p1):\n",
        "        p2 += 1\n",
        "        b2 += 1\n",
        "    elif (p2 + 1 < 4):\n",
        "        p2 += 1\n",
        "  elif val == 'w':  #move up\n",
        "    if (p2 - 1 == b2) and (b2 - 1 > -1) and (b1 == p1):\n",
        "        p2 -= 1\n",
        "        b2 -= 1\n",
        "    elif (p2 - 1 > -1):\n",
        "        p2 -= 1\n",
        "  elif val == 'a':  #move left\n",
        "    if (p1 - 1 == b1) and (b1 - 1 > -1) and (b2 == p2):\n",
        "        p1 -= 1\n",
        "        b1 -= 1\n",
        "    elif (p1 - 1 > -1):\n",
        "        p1 -= 1\n",
        "  elif val == 'd':  #move right\n",
        "    if (p1 + 1 == b1) and (b1 + 1 < 4) and (b2 == p2):\n",
        "        p1 += 1\n",
        "        b1 += 1\n",
        "    elif (p1 + 1 < 4):\n",
        "        p1 += 1\n",
        "  else:\n",
        "    print('enter a valid input')\n"
      ],
      "execution_count": null,
      "outputs": [
        {
          "output_type": "stream",
          "text": [
            "_ _ _ _ \n",
            "P _ _ _ \n",
            "0 X _ _ \n",
            "_ _ _ _ \n",
            "Enter your next move: d\n",
            "_ _ _ _ \n",
            "_ P _ _ \n",
            "0 X _ _ \n",
            "_ _ _ _ \n",
            "Enter your next move: d\n",
            "_ _ _ _ \n",
            "_ _ P _ \n",
            "0 X _ _ \n",
            "_ _ _ _ \n",
            "Enter your next move: s\n",
            "_ _ _ _ \n",
            "_ _ _ _ \n",
            "0 X P _ \n",
            "_ _ _ _ \n",
            "Enter your next move: a\n",
            "score = 100\n"
          ],
          "name": "stdout"
        }
      ]
    }
  ]
}